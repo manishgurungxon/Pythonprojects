{
  "nbformat": 4,
  "nbformat_minor": 0,
  "metadata": {
    "colab": {
      "provenance": [],
      "collapsed_sections": []
    },
    "kernelspec": {
      "name": "python3",
      "display_name": "Python 3"
    },
    "language_info": {
      "name": "python"
    }
  },
  "cells": [
    {
      "cell_type": "code",
      "execution_count": 1,
      "metadata": {
        "id": "GCAwR3WXxAWx"
      },
      "outputs": [],
      "source": [
        "import matplotlib.pyplot as plt\n",
        "import numpy as np\n",
        "import pandas as pd\n",
        "import seaborn as sns\n"
      ]
    },
    {
      "cell_type": "code",
      "source": [
        "# convert the txt to dataframe with our delimiters and header as none since we do not have headers in our input file and give them Time and volts are their header.\n",
        "df = pd.read_csv(\"guva_output_voltage_4.txt\",sep = '\\t', header = None, names=['Time','volts'])"
      ],
      "metadata": {
        "id": "LYsk3kOuxDbt"
      },
      "execution_count": 2,
      "outputs": []
    },
    {
      "cell_type": "code",
      "source": [
        "df1 = pd.read_csv(\"temp_4.txt\", sep = '->', header = None, names=['Time', 'Temp'])"
      ],
      "metadata": {
        "id": "hGNIyxGCxE4d",
        "colab": {
          "base_uri": "https://localhost:8080/"
        },
        "outputId": "c6783f4b-4a87-4f18-f56a-c128d1762e6c"
      },
      "execution_count": 3,
      "outputs": [
        {
          "output_type": "stream",
          "name": "stderr",
          "text": [
            "/usr/local/lib/python3.7/dist-packages/pandas/util/_decorators.py:311: ParserWarning: Falling back to the 'python' engine because the 'c' engine does not support regex separators (separators > 1 char and different from '\\s+' are interpreted as regex); you can avoid this warning by specifying engine='python'.\n",
            "  return func(*args, **kwargs)\n"
          ]
        }
      ]
    },
    {
      "cell_type": "code",
      "source": [
        "# We have seen that the dataframe has HH:MM:SS.SS format which will need to converted to seconds.\n",
        "# Here I am defining a function to convert the Time into seconds. \n",
        "def time_convert(x):\n",
        "  h,m,s = x.split(':') # Looks for ':' splits \n",
        "  return int(h) * 3600 + int(m) * 60 + float(s) # and returns the conversion to seconds. Note that we are using float(s) as we have SS.SS "
      ],
      "metadata": {
        "id": "wFwSivLRvtxN"
      },
      "execution_count": 4,
      "outputs": []
    },
    {
      "cell_type": "code",
      "source": [
        "# Apply the function to dataframe column 'Time'.\n",
        "df['Time'] = df['Time'].apply(time_convert)"
      ],
      "metadata": {
        "id": "0GnlQnd4vvPX"
      },
      "execution_count": 5,
      "outputs": []
    },
    {
      "cell_type": "code",
      "source": [
        "# Let's check our Time column\n",
        "df['Time'] \n",
        "# as you can see we got the desired results."
      ],
      "metadata": {
        "colab": {
          "base_uri": "https://localhost:8080/"
        },
        "id": "qeGnhlHLvxAr",
        "outputId": "adbcc5ee-e193-476c-ca78-1082c323d20c"
      },
      "execution_count": 6,
      "outputs": [
        {
          "output_type": "execute_result",
          "data": {
            "text/plain": [
              "0       54910.951\n",
              "1       54911.950\n",
              "2       54912.950\n",
              "3       54913.949\n",
              "4       54914.949\n",
              "          ...    \n",
              "2141    57054.087\n",
              "2142    57055.069\n",
              "2143    57056.085\n",
              "2144    57057.081\n",
              "2145    57058.090\n",
              "Name: Time, Length: 2146, dtype: float64"
            ]
          },
          "metadata": {},
          "execution_count": 6
        }
      ]
    },
    {
      "cell_type": "code",
      "source": [
        "# let's do the same for dataframe 2\n",
        "df1['Time'] = df1['Time'].apply(time_convert)\n"
      ],
      "metadata": {
        "id": "fWdpM6fvwozz"
      },
      "execution_count": 7,
      "outputs": []
    },
    {
      "cell_type": "code",
      "source": [
        "df1['Time']"
      ],
      "metadata": {
        "colab": {
          "base_uri": "https://localhost:8080/"
        },
        "id": "FcT0is5sw1zC",
        "outputId": "05c2cf16-438b-41bd-a1c8-23a7a99eb762"
      },
      "execution_count": 8,
      "outputs": [
        {
          "output_type": "execute_result",
          "data": {
            "text/plain": [
              "0       54914.934\n",
              "1       54916.062\n",
              "2       54917.233\n",
              "3       54918.358\n",
              "4       54919.530\n",
              "          ...    \n",
              "1864    57057.315\n",
              "1865    57058.451\n",
              "1866    57059.580\n",
              "1867    57060.757\n",
              "1868    57061.883\n",
              "Name: Time, Length: 1869, dtype: float64"
            ]
          },
          "metadata": {},
          "execution_count": 8
        }
      ]
    },
    {
      "cell_type": "code",
      "source": [
        "#Lets split the volt dataframe as volt column\n",
        "volt_df = df.volts"
      ],
      "metadata": {
        "id": "C84xt5of1LLk"
      },
      "execution_count": 9,
      "outputs": []
    },
    {
      "cell_type": "code",
      "source": [
        "df"
      ],
      "metadata": {
        "colab": {
          "base_uri": "https://localhost:8080/",
          "height": 424
        },
        "id": "8KQnYR_FMDQu",
        "outputId": "45c69360-48dd-4222-8c50-52be6df29675"
      },
      "execution_count": 10,
      "outputs": [
        {
          "output_type": "execute_result",
          "data": {
            "text/plain": [
              "           Time  volts\n",
              "0     54910.951    368\n",
              "1     54911.950    373\n",
              "2     54912.950    368\n",
              "3     54913.949    316\n",
              "4     54914.949    368\n",
              "...         ...    ...\n",
              "2141  57054.087    337\n",
              "2142  57055.069    343\n",
              "2143  57056.085    344\n",
              "2144  57057.081    339\n",
              "2145  57058.090    347\n",
              "\n",
              "[2146 rows x 2 columns]"
            ],
            "text/html": [
              "\n",
              "  <div id=\"df-5ddbdfb8-7e2a-447f-a11c-af5331bd9b0d\">\n",
              "    <div class=\"colab-df-container\">\n",
              "      <div>\n",
              "<style scoped>\n",
              "    .dataframe tbody tr th:only-of-type {\n",
              "        vertical-align: middle;\n",
              "    }\n",
              "\n",
              "    .dataframe tbody tr th {\n",
              "        vertical-align: top;\n",
              "    }\n",
              "\n",
              "    .dataframe thead th {\n",
              "        text-align: right;\n",
              "    }\n",
              "</style>\n",
              "<table border=\"1\" class=\"dataframe\">\n",
              "  <thead>\n",
              "    <tr style=\"text-align: right;\">\n",
              "      <th></th>\n",
              "      <th>Time</th>\n",
              "      <th>volts</th>\n",
              "    </tr>\n",
              "  </thead>\n",
              "  <tbody>\n",
              "    <tr>\n",
              "      <th>0</th>\n",
              "      <td>54910.951</td>\n",
              "      <td>368</td>\n",
              "    </tr>\n",
              "    <tr>\n",
              "      <th>1</th>\n",
              "      <td>54911.950</td>\n",
              "      <td>373</td>\n",
              "    </tr>\n",
              "    <tr>\n",
              "      <th>2</th>\n",
              "      <td>54912.950</td>\n",
              "      <td>368</td>\n",
              "    </tr>\n",
              "    <tr>\n",
              "      <th>3</th>\n",
              "      <td>54913.949</td>\n",
              "      <td>316</td>\n",
              "    </tr>\n",
              "    <tr>\n",
              "      <th>4</th>\n",
              "      <td>54914.949</td>\n",
              "      <td>368</td>\n",
              "    </tr>\n",
              "    <tr>\n",
              "      <th>...</th>\n",
              "      <td>...</td>\n",
              "      <td>...</td>\n",
              "    </tr>\n",
              "    <tr>\n",
              "      <th>2141</th>\n",
              "      <td>57054.087</td>\n",
              "      <td>337</td>\n",
              "    </tr>\n",
              "    <tr>\n",
              "      <th>2142</th>\n",
              "      <td>57055.069</td>\n",
              "      <td>343</td>\n",
              "    </tr>\n",
              "    <tr>\n",
              "      <th>2143</th>\n",
              "      <td>57056.085</td>\n",
              "      <td>344</td>\n",
              "    </tr>\n",
              "    <tr>\n",
              "      <th>2144</th>\n",
              "      <td>57057.081</td>\n",
              "      <td>339</td>\n",
              "    </tr>\n",
              "    <tr>\n",
              "      <th>2145</th>\n",
              "      <td>57058.090</td>\n",
              "      <td>347</td>\n",
              "    </tr>\n",
              "  </tbody>\n",
              "</table>\n",
              "<p>2146 rows × 2 columns</p>\n",
              "</div>\n",
              "      <button class=\"colab-df-convert\" onclick=\"convertToInteractive('df-5ddbdfb8-7e2a-447f-a11c-af5331bd9b0d')\"\n",
              "              title=\"Convert this dataframe to an interactive table.\"\n",
              "              style=\"display:none;\">\n",
              "        \n",
              "  <svg xmlns=\"http://www.w3.org/2000/svg\" height=\"24px\"viewBox=\"0 0 24 24\"\n",
              "       width=\"24px\">\n",
              "    <path d=\"M0 0h24v24H0V0z\" fill=\"none\"/>\n",
              "    <path d=\"M18.56 5.44l.94 2.06.94-2.06 2.06-.94-2.06-.94-.94-2.06-.94 2.06-2.06.94zm-11 1L8.5 8.5l.94-2.06 2.06-.94-2.06-.94L8.5 2.5l-.94 2.06-2.06.94zm10 10l.94 2.06.94-2.06 2.06-.94-2.06-.94-.94-2.06-.94 2.06-2.06.94z\"/><path d=\"M17.41 7.96l-1.37-1.37c-.4-.4-.92-.59-1.43-.59-.52 0-1.04.2-1.43.59L10.3 9.45l-7.72 7.72c-.78.78-.78 2.05 0 2.83L4 21.41c.39.39.9.59 1.41.59.51 0 1.02-.2 1.41-.59l7.78-7.78 2.81-2.81c.8-.78.8-2.07 0-2.86zM5.41 20L4 18.59l7.72-7.72 1.47 1.35L5.41 20z\"/>\n",
              "  </svg>\n",
              "      </button>\n",
              "      \n",
              "  <style>\n",
              "    .colab-df-container {\n",
              "      display:flex;\n",
              "      flex-wrap:wrap;\n",
              "      gap: 12px;\n",
              "    }\n",
              "\n",
              "    .colab-df-convert {\n",
              "      background-color: #E8F0FE;\n",
              "      border: none;\n",
              "      border-radius: 50%;\n",
              "      cursor: pointer;\n",
              "      display: none;\n",
              "      fill: #1967D2;\n",
              "      height: 32px;\n",
              "      padding: 0 0 0 0;\n",
              "      width: 32px;\n",
              "    }\n",
              "\n",
              "    .colab-df-convert:hover {\n",
              "      background-color: #E2EBFA;\n",
              "      box-shadow: 0px 1px 2px rgba(60, 64, 67, 0.3), 0px 1px 3px 1px rgba(60, 64, 67, 0.15);\n",
              "      fill: #174EA6;\n",
              "    }\n",
              "\n",
              "    [theme=dark] .colab-df-convert {\n",
              "      background-color: #3B4455;\n",
              "      fill: #D2E3FC;\n",
              "    }\n",
              "\n",
              "    [theme=dark] .colab-df-convert:hover {\n",
              "      background-color: #434B5C;\n",
              "      box-shadow: 0px 1px 3px 1px rgba(0, 0, 0, 0.15);\n",
              "      filter: drop-shadow(0px 1px 2px rgba(0, 0, 0, 0.3));\n",
              "      fill: #FFFFFF;\n",
              "    }\n",
              "  </style>\n",
              "\n",
              "      <script>\n",
              "        const buttonEl =\n",
              "          document.querySelector('#df-5ddbdfb8-7e2a-447f-a11c-af5331bd9b0d button.colab-df-convert');\n",
              "        buttonEl.style.display =\n",
              "          google.colab.kernel.accessAllowed ? 'block' : 'none';\n",
              "\n",
              "        async function convertToInteractive(key) {\n",
              "          const element = document.querySelector('#df-5ddbdfb8-7e2a-447f-a11c-af5331bd9b0d');\n",
              "          const dataTable =\n",
              "            await google.colab.kernel.invokeFunction('convertToInteractive',\n",
              "                                                     [key], {});\n",
              "          if (!dataTable) return;\n",
              "\n",
              "          const docLinkHtml = 'Like what you see? Visit the ' +\n",
              "            '<a target=\"_blank\" href=https://colab.research.google.com/notebooks/data_table.ipynb>data table notebook</a>'\n",
              "            + ' to learn more about interactive tables.';\n",
              "          element.innerHTML = '';\n",
              "          dataTable['output_type'] = 'display_data';\n",
              "          await google.colab.output.renderOutput(dataTable, element);\n",
              "          const docLink = document.createElement('div');\n",
              "          docLink.innerHTML = docLinkHtml;\n",
              "          element.appendChild(docLink);\n",
              "        }\n",
              "      </script>\n",
              "    </div>\n",
              "  </div>\n",
              "  "
            ]
          },
          "metadata": {},
          "execution_count": 10
        }
      ]
    },
    {
      "cell_type": "code",
      "source": [
        "# let's check if we have our volts in our new data frame.\n",
        "print(volt_df)"
      ],
      "metadata": {
        "colab": {
          "base_uri": "https://localhost:8080/"
        },
        "id": "d0sFXuWe1Qua",
        "outputId": "e4ae0232-7e65-4c13-f9db-64f2593b76fb"
      },
      "execution_count": 11,
      "outputs": [
        {
          "output_type": "stream",
          "name": "stdout",
          "text": [
            "0       368\n",
            "1       373\n",
            "2       368\n",
            "3       316\n",
            "4       368\n",
            "       ... \n",
            "2141    337\n",
            "2142    343\n",
            "2143    344\n",
            "2144    339\n",
            "2145    347\n",
            "Name: volts, Length: 2146, dtype: int64\n"
          ]
        }
      ]
    },
    {
      "cell_type": "code",
      "source": [
        "time_df = df.Time "
      ],
      "metadata": {
        "id": "PozbFnhl1UPj"
      },
      "execution_count": 12,
      "outputs": []
    },
    {
      "cell_type": "code",
      "source": [
        "print(time_df)"
      ],
      "metadata": {
        "colab": {
          "base_uri": "https://localhost:8080/"
        },
        "id": "8iLQA07u1Y_R",
        "outputId": "1e114246-4d30-480f-f7dc-e99b349189a7"
      },
      "execution_count": 13,
      "outputs": [
        {
          "output_type": "stream",
          "name": "stdout",
          "text": [
            "0       54910.951\n",
            "1       54911.950\n",
            "2       54912.950\n",
            "3       54913.949\n",
            "4       54914.949\n",
            "          ...    \n",
            "2141    57054.087\n",
            "2142    57055.069\n",
            "2143    57056.085\n",
            "2144    57057.081\n",
            "2145    57058.090\n",
            "Name: Time, Length: 2146, dtype: float64\n"
          ]
        }
      ]
    },
    {
      "cell_type": "code",
      "source": [
        "# Let's split the data of Temp to a new data frame. \n",
        "temp_df = df1.Temp"
      ],
      "metadata": {
        "id": "8hGd5byx1bGq"
      },
      "execution_count": 14,
      "outputs": []
    },
    {
      "cell_type": "code",
      "source": [
        "print(temp_df)"
      ],
      "metadata": {
        "colab": {
          "base_uri": "https://localhost:8080/"
        },
        "id": "uNDFdWy_1jJb",
        "outputId": "ad7b104a-2243-448a-91c3-517cba46b3c0"
      },
      "execution_count": 15,
      "outputs": [
        {
          "output_type": "stream",
          "name": "stdout",
          "text": [
            "0       19.55\n",
            "1       19.75\n",
            "2       19.67\n",
            "3       19.78\n",
            "4       19.81\n",
            "        ...  \n",
            "1864    30.93\n",
            "1865    30.90\n",
            "1866    31.02\n",
            "1867    30.93\n",
            "1868    31.00\n",
            "Name: Temp, Length: 1869, dtype: float64\n"
          ]
        }
      ]
    },
    {
      "cell_type": "code",
      "source": [
        "# Split the time from dataframe of df1 to new time dataframe 1\n",
        "time_df1= df1.Time"
      ],
      "metadata": {
        "id": "KqvQbAmF2AX8"
      },
      "execution_count": 16,
      "outputs": []
    },
    {
      "cell_type": "code",
      "source": [
        "print(time_df1)"
      ],
      "metadata": {
        "colab": {
          "base_uri": "https://localhost:8080/"
        },
        "id": "mnd3Tsi_2ESp",
        "outputId": "687e090b-94b0-4a22-c6ee-ad83bca850e8"
      },
      "execution_count": 17,
      "outputs": [
        {
          "output_type": "stream",
          "name": "stdout",
          "text": [
            "0       54914.934\n",
            "1       54916.062\n",
            "2       54917.233\n",
            "3       54918.358\n",
            "4       54919.530\n",
            "          ...    \n",
            "1864    57057.315\n",
            "1865    57058.451\n",
            "1866    57059.580\n",
            "1867    57060.757\n",
            "1868    57061.883\n",
            "Name: Time, Length: 1869, dtype: float64\n"
          ]
        }
      ]
    },
    {
      "cell_type": "code",
      "source": [
        "%matplotlib inline"
      ],
      "metadata": {
        "id": "yYB2po_k_g2a"
      },
      "execution_count": 19,
      "outputs": []
    },
    {
      "cell_type": "code",
      "source": [
        "# Let's create a figure.\n",
        "fig, ax1 = plt.subplots()\n",
        "\n",
        "curve1 = ax1.plot(time_df, volt_df, label = \"LED\", color = \"red\")\n",
        "\n",
        "# Let's mix the X axis of the data as they have comon X axis that is Time[s]\n",
        "ax2 = ax1.twinx()\n",
        "curve2 = ax2.plot(time_df1, temp_df, label =\"Volts\", color =\"blue\")\n",
        "\n",
        "# Let's set the label for our axis with proper color and name.\n",
        "ax1.set_ylabel(\"Volts [mV] - proportional to LED power\", color =\"red\")\n",
        "ax2.set_ylabel(\"Temp\", color =\"blue\")\n",
        "ax1.set_xlabel(\"Time[s]\")\n",
        "# customize\n",
        "ax1.tick_params(axis ='y', colors = \"red\")\n",
        "ax2.tick_params(axis ='y', colors = \"blue\")\n",
        "# customize\n",
        "ax2.spines[\"right\"].set_color(\"blue\")\n",
        "ax1.spines[\"left\"].set_color(\"red\")\n",
        "\n",
        "# get legends for both axis\n",
        "# Let's plot the legend outside \n",
        "# plt.legend(bbox_to_anchor=(0, 1), loc='location', ncol=1)\n",
        "ax1.legend(['LED power'],bbox_to_anchor=(0.5, 1), loc=\"lower center\")\n",
        "ax2.legend(['LED temperature'],bbox_to_anchor=(0.35, 1), loc=\"lower right\")\n",
        "\n",
        "# Let's save the image before plt.show()\n",
        "plt.savefig('Ledpower_Ledtemp.jpeg', dpi=300, bbox_inches='tight')\n",
        "\n",
        "\n",
        "plt.show()\n",
        "\n"
      ],
      "metadata": {
        "colab": {
          "base_uri": "https://localhost:8080/",
          "height": 302
        },
        "id": "Y9geJE9rzDNH",
        "outputId": "4f20d815-9138-4cd2-90ce-6467aaa62cf7"
      },
      "execution_count": 57,
      "outputs": [
        {
          "output_type": "display_data",
          "data": {
            "text/plain": [
              "<Figure size 432x288 with 2 Axes>"
            ],
            "image/png": "[encoded data removed]"
          },
          "metadata": {
            "needs_background": "light"
          }
        }
      ]
    }
  ]
}